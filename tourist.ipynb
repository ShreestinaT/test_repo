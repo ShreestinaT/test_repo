{
 "cells": [
  {
   "cell_type": "markdown",
   "metadata": {},
   "source": [
    "#### Date : 23rd December, 2022\n",
    "#### Author : Shreestina Tamrakar\n",
    "Objective : The objective of this notebook is to see the trend on the number of \n",
    "            tourists on different destinations"
   ]
  },
  {
   "cell_type": "code",
   "execution_count": 1,
   "metadata": {},
   "outputs": [],
   "source": [
    "import warnings\n",
    "warnings.simplefilter(action='ignore', category=FutureWarning)"
   ]
  },
  {
   "cell_type": "code",
   "execution_count": 2,
   "metadata": {},
   "outputs": [
    {
     "data": {
      "text/plain": [
       "RendererRegistry.enable('mimetype')"
      ]
     },
     "execution_count": 2,
     "metadata": {},
     "output_type": "execute_result"
    }
   ],
   "source": [
    "import pandas as pd\n",
    "import altair as alt\n",
    "#import altair_saver\n",
    "alt.renderers.enable('mimetype') "
   ]
  },
  {
   "cell_type": "code",
   "execution_count": 3,
   "metadata": {},
   "outputs": [
    {
     "data": {
      "text/html": [
       "<div>\n",
       "<style scoped>\n",
       "    .dataframe tbody tr th:only-of-type {\n",
       "        vertical-align: middle;\n",
       "    }\n",
       "\n",
       "    .dataframe tbody tr th {\n",
       "        vertical-align: top;\n",
       "    }\n",
       "\n",
       "    .dataframe thead th {\n",
       "        text-align: right;\n",
       "    }\n",
       "</style>\n",
       "<table border=\"1\" class=\"dataframe\">\n",
       "  <thead>\n",
       "    <tr style=\"text-align: right;\">\n",
       "      <th></th>\n",
       "      <th>year</th>\n",
       "      <th>destination</th>\n",
       "      <th>tourist_no</th>\n",
       "    </tr>\n",
       "  </thead>\n",
       "  <tbody>\n",
       "    <tr>\n",
       "      <th>0</th>\n",
       "      <td>2017</td>\n",
       "      <td>Greater Perth</td>\n",
       "      <td>3621000.0</td>\n",
       "    </tr>\n",
       "    <tr>\n",
       "      <th>1</th>\n",
       "      <td>2017</td>\n",
       "      <td>Reykjavík</td>\n",
       "      <td>2492495.0</td>\n",
       "    </tr>\n",
       "    <tr>\n",
       "      <th>2</th>\n",
       "      <td>2017</td>\n",
       "      <td>New York city</td>\n",
       "      <td>62800000.0</td>\n",
       "    </tr>\n",
       "    <tr>\n",
       "      <th>3</th>\n",
       "      <td>2017</td>\n",
       "      <td>Stockholm County</td>\n",
       "      <td>1320000.0</td>\n",
       "    </tr>\n",
       "    <tr>\n",
       "      <th>4</th>\n",
       "      <td>2017</td>\n",
       "      <td>Emirates of Dubai</td>\n",
       "      <td>15790000.0</td>\n",
       "    </tr>\n",
       "  </tbody>\n",
       "</table>\n",
       "</div>"
      ],
      "text/plain": [
       "   year        destination  tourist_no\n",
       "0  2017      Greater Perth   3621000.0\n",
       "1  2017          Reykjavík   2492495.0\n",
       "2  2017      New York city  62800000.0\n",
       "3  2017   Stockholm County   1320000.0\n",
       "4  2017  Emirates of Dubai  15790000.0"
      ]
     },
     "execution_count": 3,
     "metadata": {},
     "output_type": "execute_result"
    }
   ],
   "source": [
    "tourist_df1 = pd.read_csv(\"tourist_num.csv\")\n",
    "tourist_df1.head()"
   ]
  },
  {
   "cell_type": "code",
   "execution_count": 4,
   "metadata": {},
   "outputs": [],
   "source": [
    "tourist_df1[\"year\"] = tourist_df1[\"year\"].values.astype(str)"
   ]
  },
  {
   "cell_type": "markdown",
   "metadata": {},
   "source": [
    "#### Interactive visualisation with altair"
   ]
  },
  {
   "cell_type": "code",
   "execution_count": 5,
   "metadata": {},
   "outputs": [],
   "source": [
    "chart = alt.Chart(tourist_df1).mark_line(point=alt.OverlayMarkDef(color=\"white\")).encode(\n",
    "    x=alt.X(\"year\", axis=alt.Axis(title=\"Year\")),\n",
    "    y=alt.Y(\"tourist_no\", axis=alt.Axis(title=\"Number of Tourists\")),\n",
    "    color=alt.Color(\"destination\", legend=alt.Legend(title=\"Destinations\")),\n",
    "    tooltip=[\n",
    "        alt.Tooltip(\"year\"),\n",
    "        alt.Tooltip(\"destination\"),\n",
    "        alt.Tooltip(\"tourist_no\"),\n",
    "    ],\n",
    ").properties(\n",
    "    width=500, \n",
    "    height=400,\n",
    "    title=\"Number of tourists in different destinations\"\n",
    "    )\n"
   ]
  },
  {
   "cell_type": "code",
   "execution_count": 6,
   "metadata": {},
   "outputs": [
    {
     "data": {
      "application/vnd.vegalite.v4+json": {
       "$schema": "https://vega.github.io/schema/vega-lite/v4.17.0.json",
       "config": {
        "view": {
         "continuousHeight": 300,
         "continuousWidth": 400
        }
       },
       "data": {
        "name": "data-daafbedbcbe1fe429f2a011cd256284b"
       },
       "datasets": {
        "data-daafbedbcbe1fe429f2a011cd256284b": [
         {
          "destination": "Greater Perth",
          "tourist_no": 3621000,
          "year": "2017"
         },
         {
          "destination": "Reykjavík",
          "tourist_no": 2492495,
          "year": "2017"
         },
         {
          "destination": "New York city",
          "tourist_no": 62800000,
          "year": "2017"
         },
         {
          "destination": "Stockholm County",
          "tourist_no": 1320000,
          "year": "2017"
         },
         {
          "destination": "Emirates of Dubai",
          "tourist_no": 15790000,
          "year": "2017"
         },
         {
          "destination": "Bali",
          "tourist_no": 14433372,
          "year": "2017"
         },
         {
          "destination": "Istanbul",
          "tourist_no": 10730510,
          "year": "2017"
         },
         {
          "destination": "London",
          "tourist_no": 32227800,
          "year": "2017"
         },
         {
          "destination": "Rome",
          "tourist_no": 14694364,
          "year": "2017"
         },
         {
          "destination": "Greater Perth",
          "tourist_no": 4159000,
          "year": "2018"
         },
         {
          "destination": "Reykjavík",
          "tourist_no": 2984565,
          "year": "2018"
         },
         {
          "destination": "New York city",
          "tourist_no": 65100000,
          "year": "2018"
         },
         {
          "destination": "Stockholm County",
          "tourist_no": 1300000,
          "year": "2018"
         },
         {
          "destination": "Emirates of Dubai",
          "tourist_no": 15920000,
          "year": "2018"
         },
         {
          "destination": "Bali",
          "tourist_no": 15828464,
          "year": "2018"
         },
         {
          "destination": "Istanbul",
          "tourist_no": 13432990,
          "year": "2018"
         },
         {
          "destination": "London",
          "tourist_no": 31050200,
          "year": "2018"
         },
         {
          "destination": "Rome",
          "tourist_no": 18973379,
          "year": "2018"
         },
         {
          "destination": "Paris",
          "tourist_no": 24456486,
          "year": "2018"
         },
         {
          "destination": "Greater Perth",
          "tourist_no": 4756000,
          "year": "2019"
         },
         {
          "destination": "Reykjavík",
          "tourist_no": 3574039,
          "year": "2019"
         },
         {
          "destination": "New York city",
          "tourist_no": 66600000,
          "year": "2019"
         },
         {
          "destination": "Stockholm County",
          "tourist_no": 1456000,
          "year": "2019"
         },
         {
          "destination": "Emirates of Dubai",
          "tourist_no": 16730000,
          "year": "2019"
         },
         {
          "destination": "Bali",
          "tourist_no": 16820249,
          "year": "2019"
         },
         {
          "destination": "Istanbul",
          "tourist_no": 14906663,
          "year": "2019"
         },
         {
          "destination": "London",
          "tourist_no": 34213500,
          "year": "2019"
         },
         {
          "destination": "Rome",
          "tourist_no": 19454354,
          "year": "2019"
         },
         {
          "destination": "Paris",
          "tourist_no": 25028299,
          "year": "2019"
         },
         {
          "destination": "Greater Perth",
          "tourist_no": 4019000,
          "year": "2020"
         },
         {
          "destination": "Reykjavík",
          "tourist_no": 4351944,
          "year": "2020"
         },
         {
          "destination": "New York city",
          "tourist_no": 22300000,
          "year": "2020"
         },
         {
          "destination": "Stockholm County",
          "tourist_no": 335000,
          "year": "2020"
         },
         {
          "destination": "Emirates of Dubai",
          "tourist_no": 5510000,
          "year": "2020"
         },
         {
          "destination": "Bali",
          "tourist_no": 5665630,
          "year": "2020"
         },
         {
          "destination": "Istanbul",
          "tourist_no": 5001981,
          "year": "2020"
         },
         {
          "destination": "Paris",
          "tourist_no": 7277380,
          "year": "2020"
         },
         {
          "destination": "Greater Perth",
          "tourist_no": 3346000,
          "year": "2021"
         },
         {
          "destination": "Reykjavík",
          "tourist_no": 5322534,
          "year": "2021"
         },
         {
          "destination": "New York city",
          "tourist_no": 32900000,
          "year": "2021"
         },
         {
          "destination": "Stockholm County",
          "tourist_no": 542000,
          "year": "2021"
         },
         {
          "destination": "Emirates of Dubai",
          "tourist_no": 7280000,
          "year": "2021"
         },
         {
          "destination": "Bali",
          "tourist_no": 4301643,
          "year": "2021"
         },
         {
          "destination": "Istanbul",
          "tourist_no": 9025004,
          "year": "2021"
         }
        ]
       },
       "encoding": {
        "color": {
         "field": "destination",
         "legend": {
          "title": "Destinations"
         },
         "type": "nominal"
        },
        "tooltip": [
         {
          "field": "year",
          "type": "nominal"
         },
         {
          "field": "destination",
          "type": "nominal"
         },
         {
          "field": "tourist_no",
          "type": "quantitative"
         }
        ],
        "x": {
         "axis": {
          "title": "Year"
         },
         "field": "year",
         "type": "nominal"
        },
        "y": {
         "axis": {
          "title": "Number of Tourists"
         },
         "field": "tourist_no",
         "type": "quantitative"
        }
       },
       "height": 400,
       "mark": {
        "point": {
         "color": "white"
        },
        "type": "line"
       },
       "title": "Number of tourists in different destinations",
       "width": 500
      },
      "image/png": "[encoded data removed]",
      "text/plain": [
       "<VegaLite 4 object>\n",
       "\n",
       "If you see this message, it means the renderer has not been properly enabled\n",
       "for the frontend that you are using. For more information, see\n",
       "https://altair-viz.github.io/user_guide/troubleshooting.html\n"
      ]
     },
     "execution_count": 6,
     "metadata": {},
     "output_type": "execute_result"
    }
   ],
   "source": [
    "\n",
    "chart"
   ]
  },
  {
   "cell_type": "markdown",
   "metadata": {},
   "source": [
    "### Note:\n",
    "* All the data represented are from survey\n",
    "* Couldn't find enough information on the number of tourists for London, Paris and Rome\n",
    "* For Paris and Rome, the data is mentioned in form of number of arrivals in \n",
    "accomodation establishments so the actual number of tourists should be greater.\n",
    "* The number of tourists for Reykjavik are forecasted numbers extracted from a report\n",
    "* The number of tourists for Dubai and Istanbul are international only whereas for \n",
    "  Greater Perth are domestic only\n",
    "* For the rest of the destination, the number of tourists represent domestic as well as \n",
    "international"
   ]
  },
  {
   "cell_type": "markdown",
   "metadata": {},
   "source": []
  },
  {
   "cell_type": "code",
   "execution_count": null,
   "metadata": {},
   "outputs": [],
   "source": []
  }
 ],
 "metadata": {
  "kernelspec": {
   "display_name": "Python 3 (ipykernel)",
   "language": "python",
   "name": "python3"
  },
  "language_info": {
   "codemirror_mode": {
    "name": "ipython",
    "version": 3
   },
   "file_extension": ".py",
   "mimetype": "text/x-python",
   "name": "python",
   "nbconvert_exporter": "python",
   "pygments_lexer": "ipython3",
   "version": "3.9.12"
  },
  "vscode": {
   "interpreter": {
    "hash": "32ee56acdfaf2bd030102aa64017ae8203ad8f035f3a7a4a75974c2dba04194e"
   }
  }
 },
 "nbformat": 4,
 "nbformat_minor": 4
}
