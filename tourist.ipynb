{
 "cells": [
  {
   "attachments": {},
   "cell_type": "markdown",
   "metadata": {},
   "source": [
    "#### Date : 23rd December, 2022\n",
    "#### Author : Shreestina Tamrakar\n",
    "Objective : The objective of this notebook is to see the trend on the number of \n",
    "            tourists on different destinations"
   ]
  },
  {
   "cell_type": "code",
   "execution_count": 1,
   "metadata": {},
   "outputs": [
    {
     "data": {
      "text/plain": [
       "RendererRegistry.enable('html')"
      ]
     },
     "execution_count": 1,
     "metadata": {},
     "output_type": "execute_result"
    }
   ],
   "source": [
    "import pandas as pd\n",
    "import altair as alt\n",
    "import matplotlib.pyplot as plt\n",
    "alt.renderers.enable(\"notebook\")\n",
    "#alt.renderers.enable(\"default\")\n",
    "#alt.renderers.enable('html')"
   ]
  },
  {
   "cell_type": "code",
   "execution_count": 2,
   "metadata": {},
   "outputs": [
    {
     "data": {
      "text/html": [
       "<div>\n",
       "<style scoped>\n",
       "    .dataframe tbody tr th:only-of-type {\n",
       "        vertical-align: middle;\n",
       "    }\n",
       "\n",
       "    .dataframe tbody tr th {\n",
       "        vertical-align: top;\n",
       "    }\n",
       "\n",
       "    .dataframe thead th {\n",
       "        text-align: right;\n",
       "    }\n",
       "</style>\n",
       "<table border=\"1\" class=\"dataframe\">\n",
       "  <thead>\n",
       "    <tr style=\"text-align: right;\">\n",
       "      <th></th>\n",
       "      <th>year</th>\n",
       "      <th>destination</th>\n",
       "      <th>tourist_no</th>\n",
       "    </tr>\n",
       "  </thead>\n",
       "  <tbody>\n",
       "    <tr>\n",
       "      <th>0</th>\n",
       "      <td>2017</td>\n",
       "      <td>Greater Perth</td>\n",
       "      <td>3621000.0</td>\n",
       "    </tr>\n",
       "    <tr>\n",
       "      <th>1</th>\n",
       "      <td>2017</td>\n",
       "      <td>Reykjavík</td>\n",
       "      <td>2492495.0</td>\n",
       "    </tr>\n",
       "    <tr>\n",
       "      <th>2</th>\n",
       "      <td>2017</td>\n",
       "      <td>New York city</td>\n",
       "      <td>62800000.0</td>\n",
       "    </tr>\n",
       "    <tr>\n",
       "      <th>3</th>\n",
       "      <td>2017</td>\n",
       "      <td>Stockholm County</td>\n",
       "      <td>1320000.0</td>\n",
       "    </tr>\n",
       "    <tr>\n",
       "      <th>4</th>\n",
       "      <td>2017</td>\n",
       "      <td>Emirates of Dubai</td>\n",
       "      <td>15790000.0</td>\n",
       "    </tr>\n",
       "  </tbody>\n",
       "</table>\n",
       "</div>"
      ],
      "text/plain": [
       "   year        destination  tourist_no\n",
       "0  2017      Greater Perth   3621000.0\n",
       "1  2017          Reykjavík   2492495.0\n",
       "2  2017      New York city  62800000.0\n",
       "3  2017   Stockholm County   1320000.0\n",
       "4  2017  Emirates of Dubai  15790000.0"
      ]
     },
     "execution_count": 2,
     "metadata": {},
     "output_type": "execute_result"
    }
   ],
   "source": [
    "tourist_df1 = pd.read_csv(\"tourist_num.csv\")\n",
    "tourist_df1.head()"
   ]
  },
  {
   "cell_type": "code",
   "execution_count": 3,
   "metadata": {},
   "outputs": [],
   "source": [
    "tourist_df1[\"year\"] = tourist_df1[\"year\"].values.astype(str)"
   ]
  },
  {
   "attachments": {},
   "cell_type": "markdown",
   "metadata": {},
   "source": [
    "#### Interactive visualisation with altair"
   ]
  },
  {
   "cell_type": "code",
   "execution_count": 4,
   "metadata": {},
   "outputs": [
    {
     "name": "stderr",
     "output_type": "stream",
     "text": [
      "/Users/shreestinatamrakar/opt/miniconda3/envs/tina/lib/python3.8/site-packages/altair/utils/core.py:317: FutureWarning: iteritems is deprecated and will be removed in a future version. Use .items instead.\n",
      "  for col_name, dtype in df.dtypes.iteritems():\n"
     ]
    },
    {
     "data": {
      "text/html": [
       "\n",
       "<div id=\"altair-viz-e82098b955054a9fa3d89f61c92f643d\"></div>\n",
       "<script type=\"text/javascript\">\n",
       "  var VEGA_DEBUG = (typeof VEGA_DEBUG == \"undefined\") ? {} : VEGA_DEBUG;\n",
       "  (function(spec, embedOpt){\n",
       "    let outputDiv = document.currentScript.previousElementSibling;\n",
       "    if (outputDiv.id !== \"altair-viz-e82098b955054a9fa3d89f61c92f643d\") {\n",
       "      outputDiv = document.getElementById(\"altair-viz-e82098b955054a9fa3d89f61c92f643d\");\n",
       "    }\n",
       "    const paths = {\n",
       "      \"vega\": \"https://cdn.jsdelivr.net/npm//vega@5?noext\",\n",
       "      \"vega-lib\": \"https://cdn.jsdelivr.net/npm//vega-lib?noext\",\n",
       "      \"vega-lite\": \"https://cdn.jsdelivr.net/npm//vega-lite@4.17.0?noext\",\n",
       "      \"vega-embed\": \"https://cdn.jsdelivr.net/npm//vega-embed@6?noext\",\n",
       "    };\n",
       "\n",
       "    function maybeLoadScript(lib, version) {\n",
       "      var key = `${lib.replace(\"-\", \"\")}_version`;\n",
       "      return (VEGA_DEBUG[key] == version) ?\n",
       "        Promise.resolve(paths[lib]) :\n",
       "        new Promise(function(resolve, reject) {\n",
       "          var s = document.createElement('script');\n",
       "          document.getElementsByTagName(\"head\")[0].appendChild(s);\n",
       "          s.async = true;\n",
       "          s.onload = () => {\n",
       "            VEGA_DEBUG[key] = version;\n",
       "            return resolve(paths[lib]);\n",
       "          };\n",
       "          s.onerror = () => reject(`Error loading script: ${paths[lib]}`);\n",
       "          s.src = paths[lib];\n",
       "        });\n",
       "    }\n",
       "\n",
       "    function showError(err) {\n",
       "      outputDiv.innerHTML = `<div class=\"error\" style=\"color:red;\">${err}</div>`;\n",
       "      throw err;\n",
       "    }\n",
       "\n",
       "    function displayChart(vegaEmbed) {\n",
       "      vegaEmbed(outputDiv, spec, embedOpt)\n",
       "        .catch(err => showError(`Javascript Error: ${err.message}<br>This usually means there's a typo in your chart specification. See the javascript console for the full traceback.`));\n",
       "    }\n",
       "\n",
       "    if(typeof define === \"function\" && define.amd) {\n",
       "      requirejs.config({paths});\n",
       "      require([\"vega-embed\"], displayChart, err => showError(`Error loading script: ${err.message}`));\n",
       "    } else {\n",
       "      maybeLoadScript(\"vega\", \"5\")\n",
       "        .then(() => maybeLoadScript(\"vega-lite\", \"4.17.0\"))\n",
       "        .then(() => maybeLoadScript(\"vega-embed\", \"6\"))\n",
       "        .catch(showError)\n",
       "        .then(() => displayChart(vegaEmbed));\n",
       "    }\n",
       "  })({\"config\": {\"view\": {\"continuousWidth\": 400, \"continuousHeight\": 300}}, \"data\": {\"name\": \"data-daafbedbcbe1fe429f2a011cd256284b\"}, \"mark\": {\"type\": \"line\", \"point\": {\"color\": \"white\"}}, \"encoding\": {\"color\": {\"field\": \"destination\", \"legend\": {\"title\": \"Destinations\"}, \"type\": \"nominal\"}, \"tooltip\": [{\"field\": \"year\", \"type\": \"nominal\"}, {\"field\": \"destination\", \"type\": \"nominal\"}, {\"field\": \"tourist_no\", \"type\": \"quantitative\"}], \"x\": {\"axis\": {\"title\": \"Year\"}, \"field\": \"year\", \"type\": \"nominal\"}, \"y\": {\"axis\": {\"title\": \"Number of Tourists\"}, \"field\": \"tourist_no\", \"type\": \"quantitative\"}}, \"height\": 500, \"selection\": {\"selector001\": {\"type\": \"interval\", \"bind\": \"scales\", \"encodings\": [\"x\", \"y\"]}}, \"title\": \"Number of tourists in different destinations\", \"width\": 800, \"$schema\": \"https://vega.github.io/schema/vega-lite/v4.17.0.json\", \"datasets\": {\"data-daafbedbcbe1fe429f2a011cd256284b\": [{\"year\": \"2017\", \"destination\": \"Greater Perth\", \"tourist_no\": 3621000.0}, {\"year\": \"2017\", \"destination\": \"Reykjav\\u00edk\", \"tourist_no\": 2492495.0}, {\"year\": \"2017\", \"destination\": \"New York city\", \"tourist_no\": 62800000.0}, {\"year\": \"2017\", \"destination\": \"Stockholm County\", \"tourist_no\": 1320000.0}, {\"year\": \"2017\", \"destination\": \"Emirates of Dubai\", \"tourist_no\": 15790000.0}, {\"year\": \"2017\", \"destination\": \"Bali\", \"tourist_no\": 14433372.0}, {\"year\": \"2017\", \"destination\": \"Istanbul\", \"tourist_no\": 10730510.0}, {\"year\": \"2017\", \"destination\": \"London\", \"tourist_no\": 32227800.0}, {\"year\": \"2017\", \"destination\": \"Rome\", \"tourist_no\": 14694364.0}, {\"year\": \"2018\", \"destination\": \"Greater Perth\", \"tourist_no\": 4159000.0}, {\"year\": \"2018\", \"destination\": \"Reykjav\\u00edk\", \"tourist_no\": 2984565.0}, {\"year\": \"2018\", \"destination\": \"New York city\", \"tourist_no\": 65100000.0}, {\"year\": \"2018\", \"destination\": \"Stockholm County\", \"tourist_no\": 1300000.0}, {\"year\": \"2018\", \"destination\": \"Emirates of Dubai\", \"tourist_no\": 15920000.0}, {\"year\": \"2018\", \"destination\": \"Bali\", \"tourist_no\": 15828464.0}, {\"year\": \"2018\", \"destination\": \"Istanbul\", \"tourist_no\": 13432990.0}, {\"year\": \"2018\", \"destination\": \"London\", \"tourist_no\": 31050200.0}, {\"year\": \"2018\", \"destination\": \"Rome\", \"tourist_no\": 18973379.0}, {\"year\": \"2018\", \"destination\": \"Paris\", \"tourist_no\": 24456486.0}, {\"year\": \"2019\", \"destination\": \"Greater Perth\", \"tourist_no\": 4756000.0}, {\"year\": \"2019\", \"destination\": \"Reykjav\\u00edk\", \"tourist_no\": 3574039.0}, {\"year\": \"2019\", \"destination\": \"New York city\", \"tourist_no\": 66600000.0}, {\"year\": \"2019\", \"destination\": \"Stockholm County\", \"tourist_no\": 1456000.0}, {\"year\": \"2019\", \"destination\": \"Emirates of Dubai\", \"tourist_no\": 16730000.0}, {\"year\": \"2019\", \"destination\": \"Bali\", \"tourist_no\": 16820249.0}, {\"year\": \"2019\", \"destination\": \"Istanbul\", \"tourist_no\": 14906663.0}, {\"year\": \"2019\", \"destination\": \"London\", \"tourist_no\": 34213500.0}, {\"year\": \"2019\", \"destination\": \"Rome\", \"tourist_no\": 19454354.0}, {\"year\": \"2019\", \"destination\": \"Paris\", \"tourist_no\": 25028299.0}, {\"year\": \"2020\", \"destination\": \"Greater Perth\", \"tourist_no\": 4019000.0}, {\"year\": \"2020\", \"destination\": \"Reykjav\\u00edk\", \"tourist_no\": 4351944.0}, {\"year\": \"2020\", \"destination\": \"New York city\", \"tourist_no\": 22300000.0}, {\"year\": \"2020\", \"destination\": \"Stockholm County\", \"tourist_no\": 335000.0}, {\"year\": \"2020\", \"destination\": \"Emirates of Dubai\", \"tourist_no\": 5510000.0}, {\"year\": \"2020\", \"destination\": \"Bali\", \"tourist_no\": 5665630.0}, {\"year\": \"2020\", \"destination\": \"Istanbul\", \"tourist_no\": 5001981.0}, {\"year\": \"2020\", \"destination\": \"Paris\", \"tourist_no\": 7277380.0}, {\"year\": \"2021\", \"destination\": \"Greater Perth\", \"tourist_no\": 3346000.0}, {\"year\": \"2021\", \"destination\": \"Reykjav\\u00edk\", \"tourist_no\": 5322534.0}, {\"year\": \"2021\", \"destination\": \"New York city\", \"tourist_no\": 32900000.0}, {\"year\": \"2021\", \"destination\": \"Stockholm County\", \"tourist_no\": 542000.0}, {\"year\": \"2021\", \"destination\": \"Emirates of Dubai\", \"tourist_no\": 7280000.0}, {\"year\": \"2021\", \"destination\": \"Bali\", \"tourist_no\": 4301643.0}, {\"year\": \"2021\", \"destination\": \"Istanbul\", \"tourist_no\": 9025004.0}]}}, {\"mode\": \"vega-lite\"});\n",
       "</script>"
      ],
      "text/plain": [
       "alt.Chart(...)"
      ]
     },
     "execution_count": 4,
     "metadata": {},
     "output_type": "execute_result"
    }
   ],
   "source": [
    "chart = alt.Chart(tourist_df1).mark_line(point=alt.OverlayMarkDef(color=\"white\")).encode(\n",
    "    x=alt.X(\"year\", axis=alt.Axis(title=\"Year\")),\n",
    "    y=alt.Y(\"tourist_no\", axis=alt.Axis(title=\"Number of Tourists\")),\n",
    "    color=alt.Color(\"destination\", legend=alt.Legend(title=\"Destinations\")),\n",
    "    tooltip=[\n",
    "        alt.Tooltip(\"year\"),\n",
    "        alt.Tooltip(\"destination\"),\n",
    "        alt.Tooltip(\"tourist_no\"),\n",
    "    ],\n",
    ").properties(\n",
    "    width=800, \n",
    "    height=500,\n",
    "    title=\"Number of tourists in different destinations\"\n",
    "    ).interactive()\n",
    "\n",
    "chart"
   ]
  },
  {
   "attachments": {},
   "cell_type": "markdown",
   "metadata": {},
   "source": [
    "### Note:\n",
    "* All the data represented are from survey\n",
    "* Couldn't find enough information on the number of tourists for London, Paris and Rome\n",
    "* For Paris and Rome, the data is mentioned in form of number of arrivals in \n",
    "accomodation establishments so the actual number of tourists should be greater.\n",
    "* The number of tourists for Reykjavik are forecasted numbers extracted from a report\n",
    "* The number of tourists for Dubai and Istanbul are international only whereas for \n",
    "  Greater Perth are domestic only\n",
    "* For the rest of the destination, the number of tourists represent domestic as well as \n",
    "international"
   ]
  },
  {
   "cell_type": "markdown",
   "metadata": {},
   "source": []
  }
 ],
 "metadata": {
  "kernelspec": {
   "display_name": "tina",
   "language": "python",
   "name": "python3"
  },
  "language_info": {
   "codemirror_mode": {
    "name": "ipython",
    "version": 3
   },
   "file_extension": ".py",
   "mimetype": "text/x-python",
   "name": "python",
   "nbconvert_exporter": "python",
   "pygments_lexer": "ipython3",
   "version": "3.8.13"
  },
  "orig_nbformat": 4,
  "vscode": {
   "interpreter": {
    "hash": "65965bf77ba9f74a975bdfaf964527a39e719d942478004597419a352a7e9544"
   }
  }
 },
 "nbformat": 4,
 "nbformat_minor": 2
}
